{
 "cells": [
  {
   "cell_type": "code",
   "execution_count": null,
   "id": "84942f54",
   "metadata": {},
   "outputs": [],
   "source": [
    "from telethon.sync import TelegramClient\n",
    "import re, json, os\n",
    "from datetime import datetime\n",
    "\n",
    "# 🔐 Replace with your Telegram API credentials\n",
    "api_id = '******'\n",
    "api_hash = '**************88'\n",
    "\n",
    "channels = [\n",
    "    'ZemenExpress', 'nevacomputer', 'meneshayeofficial', 'ethio_brand_collection',\n",
    "    'Leyueqa', 'sinayelj', 'Shewabrand', 'helloomarketethiopia', 'modernshoppingcenter',\n",
    "    'qnashcom', 'Fashiontera', 'kuruwear', 'gebeyaadama', 'MerttEka', 'forfreemarket',\n",
    "    'classybrands', 'marakibrand', 'aradabrand2', 'marakisat2', 'belaclassic', 'AwasMart'\n",
    "]\n",
    "\n",
    "os.makedirs('../data/raw', exist_ok=True)\n",
    "os.makedirs('../data/processed', exist_ok=True)"
   ]
  },
  {
   "cell_type": "code",
   "execution_count": 3,
   "id": "575da6e6",
   "metadata": {},
   "outputs": [],
   "source": [
    "def preprocess_amharic_text(text):\n",
    "    text = text.lower()\n",
    "    text = re.sub(r'[፣፡።]', ' ', text)\n",
    "    text = re.sub(r'[\\n\\r]+', ' ', text)\n",
    "    text = re.sub(r'[\"“”\\'\\'.,!?()\\[\\]{}<>/@#$%^&*_+=\\\\|-]', '', text)\n",
    "    return text.strip()\n",
    "\n",
    "def extract_entities(text):\n",
    "    return {\n",
    "        \"price\": re.findall(r'[0-9]{2,}\\s?(birr|ብር)', text, re.IGNORECASE),\n",
    "        \"phones\": re.findall(r'(\\+251|0)?9[0-9]{8}', text),\n",
    "        \"products\": re.findall(r'(ነዶ|ጫማ|ቦታ|ሸማኔ|ሱሪ|ቀሚስ|ቤት|የ[\\w\\s]+እቃ)', text)\n",
    "    }"
   ]
  },
  {
   "cell_type": "code",
   "execution_count": 10,
   "id": "4013825f",
   "metadata": {},
   "outputs": [],
   "source": [
    "\n",
    "client = TelegramClient('crawler_session', api_id, api_hash)\n",
    "async def crawl_and_process():\n",
    "    await client.start()\n",
    "    for channel in channels[:5]:  # You can change 5 to len(channels) if needed\n",
    "        try:\n",
    "            entity = await client.get_entity(f'https://t.me/{channel}')\n",
    "            raw_messages = []\n",
    "            structured = []\n",
    "\n",
    "            async for message in client.iter_messages(entity, limit=100):\n",
    "                if not message.text:\n",
    "                    continue\n",
    "\n",
    "                cleaned = preprocess_amharic_text(message.text)\n",
    "                entities = extract_entities(cleaned)\n",
    "\n",
    "                record = {\n",
    "                    \"channel\": channel,\n",
    "                    \"timestamp\": message.date.isoformat(),\n",
    "                    \"text\": cleaned,\n",
    "                    \"raw_text\": message.text,\n",
    "                    \"sender_id\": getattr(message.sender_id, 'user_id', None),\n",
    "                    \"entities\": entities\n",
    "                }\n",
    "\n",
    "                raw_messages.append(record)\n",
    "                structured.append(record)\n",
    "\n",
    "            # Save both raw and processed\n",
    "            with open(f'../data/raw/{channel}.json', 'w', encoding='utf-8') as f:\n",
    "                json.dump(raw_messages, f, ensure_ascii=False, indent=2)\n",
    "\n",
    "            with open(f'../data/processed/{channel}_structured.json', 'w', encoding='utf-8') as f:\n",
    "                json.dump(structured, f, ensure_ascii=False, indent=2)\n",
    "\n",
    "            print(f\"✅ Crawled @{channel} — {len(raw_messages)} messages\")\n",
    "\n",
    "        except Exception as e:\n",
    "            print(f\"❌ Error with @{channel}: {e}\")"
   ]
  }
 ],
 "metadata": {
  "kernelspec": {
   "display_name": ".venv",
   "language": "python",
   "name": "python3"
  },
  "language_info": {
   "codemirror_mode": {
    "name": "ipython",
    "version": 3
   },
   "file_extension": ".py",
   "mimetype": "text/x-python",
   "name": "python",
   "nbconvert_exporter": "python",
   "pygments_lexer": "ipython3",
   "version": "3.13.5"
  }
 },
 "nbformat": 4,
 "nbformat_minor": 5
}
